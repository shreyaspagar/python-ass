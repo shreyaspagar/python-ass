{
 "cells": [
  {
   "cell_type": "markdown",
   "id": "d12d08c0-c1f8-4993-bb77-2c042cf9a275",
   "metadata": {},
   "source": [
    "1) true-1\n",
    "2) false-0\n",
    "3) variable\n",
    "4) integer\n",
    "5) float print no\n",
    "6) string\n",
    "7) boolean\n",
    "8) complex\n",
    "\n",
    "2) it will be happen that declare variable elementa are fixed in a variable dont hava any change\n",
    "3) yes declare as a variable name\n",
    "4)no it is not poosible yo declare variable by the type of \"-\" but we are declare variable such type of \"A\" , \"B\" .......... so on.\n",
    "5) a = \"my name is sonu\"\n",
    "print(a)"
   ]
  },
  {
   "cell_type": "code",
   "execution_count": 1,
   "id": "f36baf81-8fad-43f8-a998-ada3b3d2a2a3",
   "metadata": {},
   "outputs": [
    {
     "name": "stdout",
     "output_type": "stream",
     "text": [
      " MY NAME IS SONU\n"
     ]
    }
   ],
   "source": [
    "a = \" MY NAME IS SONU\"\n",
    "print(a)"
   ]
  },
  {
   "cell_type": "code",
   "execution_count": null,
   "id": "1dc562e5-d38e-4dc1-a379-c802db8bdd7d",
   "metadata": {},
   "outputs": [],
   "source": [
    "we are decla"
   ]
  }
 ],
 "metadata": {
  "kernelspec": {
   "display_name": "Python 3 (ipykernel)",
   "language": "python",
   "name": "python3"
  },
  "language_info": {
   "codemirror_mode": {
    "name": "ipython",
    "version": 3
   },
   "file_extension": ".py",
   "mimetype": "text/x-python",
   "name": "python",
   "nbconvert_exporter": "python",
   "pygments_lexer": "ipython3",
   "version": "3.10.8"
  }
 },
 "nbformat": 4,
 "nbformat_minor": 5
}
